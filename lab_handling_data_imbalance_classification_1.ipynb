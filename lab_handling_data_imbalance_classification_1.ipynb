{
 "cells": [
  {
   "cell_type": "code",
   "execution_count": null,
   "metadata": {},
   "outputs": [],
   "source": [
    "import pandas as pd\n",
    "from sklearn.preprocessing import StandardScaler\n",
    "from sklearn.model_selection import train_test_split\n",
    "from sklearn.linear_model import LogisticRegression\n",
    "from sklearn.metrics import accuracy_score, precision_score, recall_score, f1_score\n",
    "\n",
    "from collections import Counter"
   ]
  },
  {
   "cell_type": "code",
   "execution_count": null,
   "metadata": {},
   "outputs": [],
   "source": [
    "file_path = 'Customer-Churn.csv'\n",
    "churn_data = pd.read_csv(file_path)"
   ]
  },
  {
   "cell_type": "code",
   "execution_count": null,
   "metadata": {},
   "outputs": [],
   "source": [
    "churn_data"
   ]
  },
  {
   "cell_type": "code",
   "execution_count": null,
   "metadata": {},
   "outputs": [],
   "source": [
    "churn_distrubtion  = churn_data['Churn'].value_counts()\n",
    "print(churn_distrubtion)"
   ]
  },
  {
   "cell_type": "code",
   "execution_count": null,
   "metadata": {},
   "outputs": [],
   "source": [
    "churn_data['TotalCharges'] = pd.to_numeric(churn_data['TotalCharges'], errors='coerce')\n",
    "\n",
    "churn_data['TotalCharges'] = churn_data['TotalCharges'].fillna(churn_data['TotalCharges'].mean())\n",
    "\n",
    "features = ['tenure', 'SeniorCitizen', 'MonthlyCharges', 'TotalCharges']\n",
    "\n",
    "X = churn_data[features]\n",
    "y = churn_data['Churn'].apply(lambda x:1 if x == 'Yes' else 0)\n",
    "\n",
    "scaler = StandardScaler()\n",
    "X_scaled = scaler.fit_transform(X)\n",
    "\n",
    "X_train, X_test, y_train, y_test = train_test_split(X_scaled, y, test_size=0.2, random_state=42)\n",
    "\n",
    "model = LogisticRegression()\n",
    "model.fit(X_train, y_train)\n",
    "\n",
    "y_pred = model.predict(X_test)\n",
    "\n",
    "accuracy = accuracy_score(y_test, y_pred)\n",
    "precision = precision_score(y_test, y_pred)\n",
    "recall = recall_score(y_test, y_pred)\n",
    "f1 = f1_score(y_test, y_pred)\n",
    "\n",
    "print(\"Unbalanced model :\")\n",
    "print(f\"Accuracy : {accuracy}\")\n",
    "print(f\"Precision : {precision}\")\n",
    "print(f\"Recall : {recall}\")\n",
    "print(f\"f1 : {f1}\")\n",
    "\n",
    "print(\"********************************************\")\n",
    "\n",
    "class_distribution = Counter(y)\n",
    "print(f\"Class distribution : {class_distribution}\")\n",
    "print(\"********************************************\")\n",
    "\n",
    "\n",
    "# Upsampling\n",
    "\n",
    "churn_yes = churn_data[churn_data['Churn'] == 'Yes']\n",
    "churn_no = churn_data[churn_data['Churn'] == 'No']\n",
    "\n",
    "churn_yes_oversampled = churn_yes.sample(len(churn_no), replace=True, random_state=42)\n",
    "churn_oversampled = pd.concat([churn_no, churn_yes_oversampled])\n",
    "X_oversampled = churn_oversampled[features]\n",
    "y_oversampled = churn_oversampled['Churn'].apply(lambda x:1 if x == 'Yes' else 0)\n",
    "\n",
    "X_oversampled_scaled = scaler.fit_transform(X_oversampled)\n",
    "\n",
    "X_train_os, X_test_os, y_train_os, y_test_os = train_test_split(X_oversampled_scaled, y_oversampled, test_size=0.2, random_state=42)\n",
    "model_os = LogisticRegression()\n",
    "model_os.fit(X_train_os, y_train_os)\n",
    "y_pred_os = model_os.predict(X_test_os)\n",
    "\n",
    "accuracy_os = accuracy_score(y_test_os, y_pred_os)\n",
    "precision_os = precision_score(y_test_os, y_pred_os)\n",
    "recall_os = recall_score(y_test_os, y_pred_os)\n",
    "f1_os = f1_score(y_test_os, y_pred_os)\n",
    "\n",
    "print(\"Upsampling model:\")\n",
    "print(f\"Accuracy : {accuracy_os}\")\n",
    "print(f\"Precision : {precision_os}\")\n",
    "print(f\"Recall : {recall_os}\")\n",
    "print(f\"f1 : {f1_os}\")\n",
    "print(\"********************************************\")\n",
    "\n",
    "\n",
    "# downsampling \n",
    "\n",
    "churn_no_undersampled = churn_no.sample(len(churn_yes), random_state=42)\n",
    "churn_undersampled = pd.concat([churn_no_undersampled, churn_yes])\n",
    "X_undersampled = churn_undersampled[features]\n",
    "y_undersampled = churn_undersampled['Churn'].apply(lambda x:1 if x == 'Yes' else 0)\n",
    "X_undersampled_scaled = scaler.fit_transform(X_undersampled)\n",
    "\n",
    "X_train_us, X_test_us, y_train_us, y_test_us = train_test_split(X_undersampled_scaled, y_undersampled, test_size=0.2, random_state=42)\n",
    "\n",
    "model_us = LogisticRegression()\n",
    "model_us.fit(X_train_us, y_train_us)\n",
    "y_pred_us = model_us.predict(X_test_us)\n",
    "\n",
    "\n",
    "accuracy_us = accuracy_score(y_test_us, y_pred_us)\n",
    "precision_us = precision_score(y_test_us, y_pred_us)\n",
    "recall_us = recall_score(y_test_us, y_pred_us)\n",
    "f1_us = f1_score(y_test_us, y_pred_us)\n",
    "\n",
    "print(\"downsampling model:\")\n",
    "print(f\"Accuracy : {accuracy_us}\")\n",
    "print(f\"Precision : {precision_us}\")\n",
    "print(f\"Recall : {recall_us}\")\n",
    "print(f\"f1 : {f1_us}\")"
   ]
  },
  {
   "cell_type": "code",
   "execution_count": null,
   "metadata": {},
   "outputs": [],
   "source": []
  }
 ],
 "metadata": {
  "kernelspec": {
   "display_name": "env_labs_28_06",
   "language": "python",
   "name": "python3"
  },
  "language_info": {
   "codemirror_mode": {
    "name": "ipython",
    "version": 3
   },
   "file_extension": ".py",
   "mimetype": "text/x-python",
   "name": "python",
   "nbconvert_exporter": "python",
   "pygments_lexer": "ipython3",
   "version": "3.11.7"
  }
 },
 "nbformat": 4,
 "nbformat_minor": 2
}
